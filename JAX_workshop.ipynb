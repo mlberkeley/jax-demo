{
 "cells": [
  {
   "cell_type": "code",
   "execution_count": 49,
   "metadata": {},
   "outputs": [],
   "source": [
    "import jax.numpy as np\n",
    "import numpy as onp\n",
    "import data\n",
    "from jax import random, jit, vmap, grad\n",
    "from jax.scipy.special import logsumexp"
   ]
  },
  {
   "cell_type": "code",
   "execution_count": 2,
   "metadata": {},
   "outputs": [
    {
     "name": "stderr",
     "output_type": "stream",
     "text": [
      "/Users/phil/miniconda3/lib/python3.7/site-packages/jax/lib/xla_bridge.py:122: UserWarning: No GPU/TPU found, falling back to CPU.\n",
      "  warnings.warn('No GPU/TPU found, falling back to CPU.')\n"
     ]
    }
   ],
   "source": [
    "key = random.PRNGKey(42)"
   ]
  },
  {
   "cell_type": "code",
   "execution_count": 3,
   "metadata": {},
   "outputs": [],
   "source": [
    "size = 300\n",
    "x = random.normal(key, (size, size), dtype=np.float32)\n",
    "def selu(x, alpha=1.67, lmbda=1.05):\n",
    "    return lmbda * np.where(x > 0, x, alpha * np.exp(x) - alpha)\n",
    "\n",
    "def xxt_and_selu(x):\n",
    "    return selu(np.dot(x, x.T))"
   ]
  },
  {
   "cell_type": "code",
   "execution_count": 4,
   "metadata": {},
   "outputs": [
    {
     "name": "stdout",
     "output_type": "stream",
     "text": [
      "967 µs ± 113 µs per loop (mean ± std. dev. of 7 runs, 1 loop each)\n"
     ]
    }
   ],
   "source": [
    "%timeit xxt_and_selu(x).block_until_ready()"
   ]
  },
  {
   "cell_type": "code",
   "execution_count": 5,
   "metadata": {},
   "outputs": [
    {
     "name": "stdout",
     "output_type": "stream",
     "text": [
      "306 µs ± 11.6 µs per loop (mean ± std. dev. of 7 runs, 1000 loops each)\n"
     ]
    }
   ],
   "source": [
    "%timeit jit(xxt_and_selu)(x).block_until_ready()"
   ]
  },
  {
   "cell_type": "code",
   "execution_count": 6,
   "metadata": {},
   "outputs": [
    {
     "name": "stdout",
     "output_type": "stream",
     "text": [
      "56.6 ms ± 1.19 ms per loop (mean ± std. dev. of 7 runs, 10 loops each)\n"
     ]
    }
   ],
   "source": [
    "def dot(x, y):\n",
    "    return np.dot(x, y)\n",
    "def naive_mv(A, v):\n",
    "    return np.vstack([dot(a.T, v) for a in A])\n",
    "%timeit naive_mv(x, x[0])"
   ]
  },
  {
   "cell_type": "code",
   "execution_count": 7,
   "metadata": {},
   "outputs": [
    {
     "name": "stdout",
     "output_type": "stream",
     "text": [
      "31.6 ms ± 2.27 ms per loop (mean ± std. dev. of 7 runs, 10 loops each)\n"
     ]
    }
   ],
   "source": [
    "vmapped_mv = vmap(dot, (None, 0), 0)\n",
    "%timeit vmapped_mv(x, x[0])"
   ]
  },
  {
   "cell_type": "code",
   "execution_count": 8,
   "metadata": {},
   "outputs": [
    {
     "name": "stdout",
     "output_type": "stream",
     "text": [
      "11.8 ms ± 444 µs per loop (mean ± std. dev. of 7 runs, 100 loops each)\n"
     ]
    }
   ],
   "source": [
    "jit_vmap = jit(vmapped_mv)\n",
    "%timeit jit_vmap(x, x[0])"
   ]
  },
  {
   "cell_type": "code",
   "execution_count": 13,
   "metadata": {},
   "outputs": [
    {
     "name": "stdout",
     "output_type": "stream",
     "text": [
      "3.1415927\n",
      "5.0\n",
      "4.0\n"
     ]
    }
   ],
   "source": [
    "def trustfall(x):\n",
    "    try:\n",
    "        if x < 0:\n",
    "            raise ValueError\n",
    "        else:\n",
    "            return x**2\n",
    "    except ValueError:\n",
    "        if x > -1:\n",
    "            return np.pi * x\n",
    "        else:\n",
    "            ct = 0\n",
    "            ret = 0\n",
    "            while ct < 5:\n",
    "                ret += x\n",
    "                ct += 1\n",
    "            return ret\n",
    "grad_fun = grad(trustfall)\n",
    "jitted = jit(grad_fun)\n",
    "print(grad_fun(-0.5))\n",
    "print(grad_fun(-3.))\n",
    "print(grad_fun(2.))"
   ]
  },
  {
   "cell_type": "code",
   "execution_count": 70,
   "metadata": {},
   "outputs": [
    {
     "name": "stdout",
     "output_type": "stream",
     "text": [
      "1.6030651\n",
      "0.9602766\n",
      "-1.4811709\n",
      "0.0813244\n",
      "1.5065618\n"
     ]
    }
   ],
   "source": [
    "def tanhsin(x):\n",
    "    return np.tanh(x) + np.sin(x)\n",
    "grad1 = grad(tanhsin)\n",
    "grad2 = grad(grad1)\n",
    "grad3 = grad(grad2)\n",
    "print(tanhsin(1.))\n",
    "print(grad1(1.))\n",
    "print(grad2(1.))\n",
    "print(grad3(1.))\n",
    "print(jit(grad(jit(grad(grad2))))(1.))"
   ]
  },
  {
   "cell_type": "code",
   "execution_count": 38,
   "metadata": {},
   "outputs": [],
   "source": [
    "def get_normal(key, shape): # Helper function for grabbing a normal and a new key\n",
    "    key, subkey = random.split(key)\n",
    "    out = random.normal(key, shape, dtype=np.float32)\n",
    "    return subkey, out\n",
    "key, x = get_normal(key, (100, 10))"
   ]
  },
  {
   "cell_type": "code",
   "execution_count": 39,
   "metadata": {},
   "outputs": [],
   "source": [
    "def random_layer_params(m, n, key, scale=1e-2):\n",
    "    w_key, b_key = random.split(key)\n",
    "    return scale * random.normal(w_key, (n, m)), scale * random.normal(b_key, (n,))\n",
    "def init_network_params(sizes, key):\n",
    "    keys = random.split(key, len(sizes))\n",
    "    tripzip = zip(sizes[:-1], sizes[1:], keys)\n",
    "    return [random_layer_params(m, n, k) for m, n, k in tripzip]"
   ]
  },
  {
   "cell_type": "code",
   "execution_count": 50,
   "metadata": {},
   "outputs": [],
   "source": [
    "def lrelu(x, leak=0.1):\n",
    "    return np.maximum(-x, x)\n",
    "\n",
    "def softmax(logits):\n",
    "    expsum = np.sum(np.exp(logits))\n",
    "    return np.exp(logits)/expsum\n",
    "\n",
    "def one_hot(x, k, dtype=np.float32):\n",
    "    return np.array(x[:, None] == np.arange(k), dtype)\n",
    "\n",
    "def loss(params, images, targets):\n",
    "    preds = batched_predict(params, images)\n",
    "    return -np.sum(preds * targets)\n",
    "\n",
    "def predict(params, image):\n",
    "    activations = image\n",
    "    for w, b in params[:-1]:\n",
    "        outputs = np.dot(w, activations) + b\n",
    "        activations = selu(outputs)\n",
    "    final_w, final_b = params[-1]\n",
    "    logits = np.dot(final_w, activations) + final_b\n",
    "    return logits - logsumexp(logits)\n",
    "@jit\n",
    "def update(params, x, y, step_size):\n",
    "    grads = grad(loss)(params, x, y) # by default, jax only grads to first parameter\n",
    "    return [(w - step_size * dw, b - step_size * db) \\\n",
    "            for (w, b), (dw, db) in zip(params, grads)]\n",
    "    \n",
    "batched_predict = vmap(predict, in_axes=(None, 0))\n",
    "\n",
    "def accuracy(params, images, targets):\n",
    "    target_class = np.argmax(targets, axis=1)\n",
    "    predicted_class = np.argmax(batched_predict(params, images,), axis=1)\n",
    "    return np.mean(predicted_class == target_class)"
   ]
  },
  {
   "cell_type": "code",
   "execution_count": 53,
   "metadata": {},
   "outputs": [],
   "source": [
    "def train(layer_sizes = [784, 512, 256, 10],\n",
    "          param_scale = 0.1,\n",
    "          step_size = 0.0001,\n",
    "          num_epochs = 8,\n",
    "          batch_size = 128,\n",
    "          n_targets = 10,):\n",
    "    params = init_network_params(layer_sizes, random.PRNGKey(0))\n",
    "    # Dataset loading nonsense\n",
    "    mnist_dataset = data.get_mnist_dataset(train=True)\n",
    "    mnist_dataset_test = data.get_mnist_dataset(train=False)\n",
    "    training_generator = data.NumpyLoader(mnist_dataset, batch_size=128, num_workers=0)\n",
    "    train_images = onp.array(mnist_dataset.train_data).reshape(len(mnist_dataset.train_data), -1)\n",
    "    train_labels = one_hot(onp.array(mnist_dataset.train_labels), n_targets)\n",
    "    test_images = np.array(mnist_dataset_test.test_data.numpy().reshape(len(mnist_dataset_test.test_data), -1), dtype=np.float32)\n",
    "    test_labels = one_hot(onp.array(mnist_dataset_test.test_labels), n_targets)\n",
    "    import time\n",
    "    for epoch in range(num_epochs):\n",
    "        start_time = time.time()\n",
    "        for x, y in training_generator:\n",
    "            y = one_hot(y, n_targets)\n",
    "            params = update(params, x, y, step_size)\n",
    "        epoch_time = time.time() - start_time\n",
    "    \n",
    "        train_acc = accuracy(params, train_images, train_labels)\n",
    "        test_acc = accuracy(params, test_images, test_labels)\n",
    "        \n",
    "        print(\"Epoch {} in {:0.2f} sec\".format(epoch, epoch_time))\n",
    "        print(\"Training set accuracy {}\".format(train_acc))\n",
    "        print(\"Test set accuracy {}\".format(test_acc))\n",
    "    return params"
   ]
  },
  {
   "cell_type": "code",
   "execution_count": 55,
   "metadata": {
    "scrolled": true
   },
   "outputs": [
    {
     "name": "stdout",
     "output_type": "stream",
     "text": [
      "Epoch 0 in 3.41 sec\n",
      "Training set accuracy 0.9606500267982483\n",
      "Test set accuracy 0.9571999907493591\n"
     ]
    }
   ],
   "source": [
    "final_params = train(num_epochs=1)"
   ]
  },
  {
   "cell_type": "code",
   "execution_count": null,
   "metadata": {},
   "outputs": [],
   "source": [
    "f\\"
   ]
  }
 ],
 "metadata": {
  "kernelspec": {
   "display_name": "Python 3",
   "language": "python",
   "name": "python3"
  },
  "language_info": {
   "codemirror_mode": {
    "name": "ipython",
    "version": 3
   },
   "file_extension": ".py",
   "mimetype": "text/x-python",
   "name": "python",
   "nbconvert_exporter": "python",
   "pygments_lexer": "ipython3",
   "version": "3.7.4"
  }
 },
 "nbformat": 4,
 "nbformat_minor": 4
}
