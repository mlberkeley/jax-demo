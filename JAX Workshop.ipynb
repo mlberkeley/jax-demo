{
 "cells": [
  {
   "cell_type": "code",
   "execution_count": null,
   "metadata": {},
   "outputs": [],
   "source": [
    "import jax.numpy as np\n",
    "import numpy as onp\n",
    "import data\n",
    "from jax import random, jit, vmap, grad\n",
    "from jax.scipy.special import logsumexp"
   ]
  },
  {
   "cell_type": "code",
   "execution_count": null,
   "metadata": {},
   "outputs": [],
   "source": [
    "key = random.PRNGKey(42)"
   ]
  },
  {
   "cell_type": "code",
   "execution_count": null,
   "metadata": {},
   "outputs": [],
   "source": [
    "size = 300\n",
    "x = random.normal(key, (size, size), dtype=np.float32)\n",
    "def selu(x, alpha=1.67, lmbda=1.05):\n",
    "    return lmbda * np.where(x > 0, x, alpha * np.exp(x) - alpha)\n",
    "\n",
    "def xxt_and_selu(x):\n",
    "    return selu(np.dot(x, x.T))"
   ]
  },
  {
   "cell_type": "code",
   "execution_count": null,
   "metadata": {},
   "outputs": [],
   "source": [
    "%timeit xxt_and_selu(x).block_until_ready()"
   ]
  },
  {
   "cell_type": "code",
   "execution_count": null,
   "metadata": {},
   "outputs": [],
   "source": [
    "#TODO: Time a JIT-Compiled version of selu(X@X.T)"
   ]
  },
  {
   "cell_type": "code",
   "execution_count": null,
   "metadata": {},
   "outputs": [],
   "source": [
    "def dot(x, y):\n",
    "    return np.dot(x, y)\n",
    "def naive_mv(A, v):\n",
    "    # Naively multiplies matrix A by vector v\n",
    "    return np.vstack([dot(a.T, v) for a in A])\n",
    "%timeit naive_mv(x, x[0])"
   ]
  },
  {
   "cell_type": "code",
   "execution_count": null,
   "metadata": {},
   "outputs": [],
   "source": [
    "vmapped_mv = #TODO: use vmap to speed up naive_mv\n",
    "%timeit vmapped_mv(x, x[0])"
   ]
  },
  {
   "cell_type": "code",
   "execution_count": null,
   "metadata": {},
   "outputs": [],
   "source": [
    "jit_vmap = #Try JITting the above function: how much do you expect this to help?\n",
    "%timeit jit_vmap(x, x[0])"
   ]
  },
  {
   "cell_type": "code",
   "execution_count": null,
   "metadata": {},
   "outputs": [],
   "source": [
    "def trustfall(x):\n",
    "    # no way this is differentiable\n",
    "    try:\n",
    "        if x < 0:\n",
    "            raise ValueError\n",
    "        else:\n",
    "            return x**2\n",
    "    except ValueError:\n",
    "        if x > -1:\n",
    "            return np.pi * x\n",
    "        else:\n",
    "            ct = 0\n",
    "            ret = 0\n",
    "            while ct < 5:\n",
    "                ret += x\n",
    "                ct += 1\n",
    "            return ret\n",
    "grad_fun = # TODO Take the gradient of the above function.\n",
    "print(grad_fun(-0.5))\n",
    "print(grad_fun(-3.))\n",
    "print(grad_fun(2.))"
   ]
  },
  {
   "cell_type": "code",
   "execution_count": null,
   "metadata": {},
   "outputs": [],
   "source": [
    "def tanhsin(x):\n",
    "    return np.tanh(x) + np.sin(x)\n",
    "grad1 = # TODO first derivative\n",
    "grad2 = # TODO second derivative\n",
    "grad3 = # TODO third derivative\n",
    "print(tanhsin(1.))\n",
    "print(grad1(1.))\n",
    "print(grad2(1.))\n",
    "print(grad3(1.))"
   ]
  },
  {
   "cell_type": "code",
   "execution_count": null,
   "metadata": {},
   "outputs": [],
   "source": [
    "def get_normal(key, shape, scale=1e-2):\n",
    "    # TODO Helper function for grabbing a normal scaled by scale and a fresh key\n",
    "    pass\n",
    "key, x = get_normal(key, (100, 10))"
   ]
  },
  {
   "cell_type": "code",
   "execution_count": null,
   "metadata": {},
   "outputs": [],
   "source": [
    "def random_layer_params(m, n, key, scale=1e-2):\n",
    "    # initialize new randon mormal matrix and bias for an affine map\n",
    "    # should take R^m -> R^n\n",
    "    pass\n",
    "def init_network_params(sizes, key):\n",
    "    keys = # TODO get keys for each layer\n",
    "    tripzip = zip(sizes[:-1], sizes[1:], keys)\n",
    "    return [random_layer_params(m, n, k) for m, n, k in tripzip]"
   ]
  },
  {
   "cell_type": "code",
   "execution_count": null,
   "metadata": {},
   "outputs": [],
   "source": [
    "def one_hot(x, k, dtype=np.float32):\n",
    "    return np.array(x[:, None] == np.arange(k), dtype)\n",
    "\n",
    "def predict(params, image):\n",
    "    activations = image\n",
    "    for w, b in params[:-1]:\n",
    "        outputs = np.dot(w, activations) + b\n",
    "        activations = selu(outputs)\n",
    "    final_w, final_b = params[-1]\n",
    "    logits = np.dot(final_w, activations) + final_b\n",
    "    return logits - logsumexp(logits) #logsumexp for numerical stability\n",
    "\n",
    "\n",
    "def batched_predict_no_vmap(params, images):\n",
    "    return np.vstack([predict(params, images[i]) for i in range(len(images))])\n",
    "\n",
    "batched_predict = None # use the appropriate vmap here\n",
    "\n",
    "def loss(params, images, targets):\n",
    "    preds = batched_predict(params, images)\n",
    "    return -np.sum(preds * targets)\n",
    "\n",
    "def update(params, x, y, step_size):\n",
    "    grads = grad(loss)(params, x, y) # by default, jax only grads to first parameter\n",
    "    # Return new parameters, updating by sgd with step size\n",
    "\n",
    "def accuracy(params, images, targets):\n",
    "    target_class = np.argmax(targets, axis=1)\n",
    "    predicted_class = np.argmax(batched_predict(params, images,), axis=1)\n",
    "    return np.mean(predicted_class == target_class)"
   ]
  },
  {
   "cell_type": "code",
   "execution_count": null,
   "metadata": {},
   "outputs": [],
   "source": [
    "def train(layer_sizes = [784, 512, 256, 10],\n",
    "          param_scale = 0.1,\n",
    "          step_size = 0.0001,\n",
    "          num_epochs = 8,\n",
    "          batch_size = 128,\n",
    "          n_targets = 10,\n",
    "          jit_update = True,):\n",
    "    params = init_network_params(layer_sizes, random.PRNGKey(0))\n",
    "    # Dataset loading nonsense\n",
    "    mnist_dataset = data.get_mnist_dataset(train=True)\n",
    "    mnist_dataset_test = data.get_mnist_dataset(train=False)\n",
    "    training_generator = data.NumpyLoader(mnist_dataset, batch_size=128, num_workers=0)\n",
    "    train_images = onp.array(mnist_dataset.train_data).reshape(len(mnist_dataset.train_data), -1)\n",
    "    train_labels = one_hot(onp.array(mnist_dataset.train_labels), n_targets)\n",
    "    test_images = np.array(mnist_dataset_test.test_data.numpy().reshape(len(mnist_dataset_test.test_data), -1), dtype=np.float32)\n",
    "    test_labels = one_hot(onp.array(mnist_dataset_test.test_labels), n_targets)\n",
    "    import time\n",
    "    jitted_update = jit(update)\n",
    "    for epoch in range(num_epochs):\n",
    "        start_time = time.time()\n",
    "        for x, y in training_generator:\n",
    "            y = one_hot(y, n_targets)\n",
    "            if jit_update:\n",
    "                params = jitted_update(params, x, y, step_size)\n",
    "            else:\n",
    "                params = update(params, x, y, step_size)\n",
    "        epoch_time = time.time() - start_time\n",
    "    \n",
    "        train_acc = accuracy(params, train_images, train_labels)\n",
    "        test_acc = accuracy(params, test_images, test_labels)\n",
    "        \n",
    "        print(\"Epoch {} in {:0.2f} sec\".format(epoch, epoch_time))\n",
    "        print(\"Training set accuracy {}\".format(train_acc))\n",
    "        print(\"Test set accuracy {}\".format(test_acc))\n",
    "    return params"
   ]
  },
  {
   "cell_type": "code",
   "execution_count": null,
   "metadata": {
    "scrolled": true
   },
   "outputs": [],
   "source": [
    "final_params = train(num_epochs=1, jit_update=False)"
   ]
  },
  {
   "cell_type": "code",
   "execution_count": null,
   "metadata": {},
   "outputs": [],
   "source": [
    "final_params = train(num_epochs=1, jit_update=True)"
   ]
  }
 ],
 "metadata": {
  "kernelspec": {
   "display_name": "Python 3",
   "language": "python",
   "name": "python3"
  },
  "language_info": {
   "codemirror_mode": {
    "name": "ipython",
    "version": 3
   },
   "file_extension": ".py",
   "mimetype": "text/x-python",
   "name": "python",
   "nbconvert_exporter": "python",
   "pygments_lexer": "ipython3",
   "version": "3.7.4"
  }
 },
 "nbformat": 4,
 "nbformat_minor": 4
}
